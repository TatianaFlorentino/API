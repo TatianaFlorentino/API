{
  "nbformat": 4,
  "nbformat_minor": 0,
  "metadata": {
    "colab": {
      "name": "Deep Learning.ipynb",
      "provenance": [],
      "authorship_tag": "ABX9TyPl1HiA7NzAcoFt9AuC8F8L",
      "include_colab_link": true
    },
    "kernelspec": {
      "name": "python3",
      "display_name": "Python 3"
    }
  },
  "cells": [
    {
      "cell_type": "markdown",
      "metadata": {
        "id": "view-in-github",
        "colab_type": "text"
      },
      "source": [
        "<a href=\"https://colab.research.google.com/github/TatianaFlorentino/API/blob/master/Deep_Learning.ipynb\" target=\"_parent\"><img src=\"https://colab.research.google.com/assets/colab-badge.svg\" alt=\"Open In Colab\"/></a>"
      ]
    },
    {
      "cell_type": "markdown",
      "metadata": {
        "id": "XluU9Mo5PByn"
      },
      "source": [
        "#Introdução ao Deep Learning\n",
        "\n",
        "A regressão logística é um recurso que nos permite estimar a probabilidade associada à ocorrência de determinado evento em face de um conjunto de variáveis explanatórias.\n",
        "\n"
      ]
    },
    {
      "cell_type": "markdown",
      "metadata": {
        "id": "hrnoyKyMTBss"
      },
      "source": [
        "No exemplo desse notebook e para mostrar os pixels de uma imagem, vamos importar um exemplo com o OpenCV e ver o array que representa a intensidade de cada um.\n",
        "\n",
        "Ref :\n",
        "[O TensorFlow é uma plataforma completa de código aberto para machine learning](\n",
        "https://www.tensorflow.org/overview/?hl=pt_br)\n",
        "\n",
        "[Intel AI](\n",
        "https://makerspace.aisingapore.org/community/ai-for-everyone/)\n",
        "\n",
        "\n",
        "\n",
        "\n"
      ]
    },
    {
      "cell_type": "code",
      "metadata": {
        "colab": {
          "base_uri": "https://localhost:8080/",
          "height": 265
        },
        "id": "NGHXS_DeVXeF",
        "outputId": "1ac0da7a-5006-4f3e-d1ab-00e68c213996"
      },
      "source": [
        "# importar pacotes necessários\n",
        "import numpy as np\n",
        "import matplotlib.pyplot as plt\n",
        "\n",
        "# criar um set entre -10 e 10 e aplicar a função sigmóide\n",
        "x = np.arange(-10, 10)\n",
        "y = 1 / (1 + np.exp(-x))\n",
        "\n",
        "# plotar a curva sigmoidal\n",
        "plt.plot(x, y)\n",
        "plt.vlines(0, 0, 1, colors='r', linestyles='dashed')\n",
        "plt.show()"
      ],
      "execution_count": 7,
      "outputs": [
        {
          "output_type": "display_data",
          "data": {
            "image/png": "[encoded data removed]",
            "text/plain": [
              "<Figure size 432x288 with 1 Axes>"
            ]
          },
          "metadata": {
            "tags": [],
            "needs_background": "light"
          }
        }
      ]
    },
    {
      "cell_type": "code",
      "metadata": {
        "id": "MvaEz_LfPipb"
      },
      "source": [
        "# importar o OpenCV\n",
        "import cv2"
      ],
      "execution_count": 1,
      "outputs": []
    },
    {
      "cell_type": "code",
      "metadata": {
        "colab": {
          "base_uri": "https://localhost:8080/"
        },
        "id": "bihBVQLAS4Iz",
        "outputId": "a4622b8b-cbeb-4c83-c6cf-d47b1b589c56"
      },
      "source": [
        "!wget https://raw.githubusercontent.com/carlosfab/escola-data-science/master/img/aviao_64x64.jpg\n",
        "!ls"
      ],
      "execution_count": 2,
      "outputs": [
        {
          "output_type": "stream",
          "text": [
            "--2021-02-23 19:17:19--  https://raw.githubusercontent.com/carlosfab/escola-data-science/master/img/aviao_64x64.jpg\n",
            "Resolving raw.githubusercontent.com (raw.githubusercontent.com)... 185.199.108.133, 185.199.109.133, 185.199.110.133, ...\n",
            "Connecting to raw.githubusercontent.com (raw.githubusercontent.com)|185.199.108.133|:443... connected.\n",
            "HTTP request sent, awaiting response... 200 OK\n",
            "Length: 14272 (14K) [image/jpeg]\n",
            "Saving to: ‘aviao_64x64.jpg’\n",
            "\n",
            "aviao_64x64.jpg     100%[===================>]  13.94K  --.-KB/s    in 0s      \n",
            "\n",
            "2021-02-23 19:17:19 (73.5 MB/s) - ‘aviao_64x64.jpg’ saved [14272/14272]\n",
            "\n",
            "aviao_64x64.jpg  sample_data\n"
          ],
          "name": "stdout"
        }
      ]
    },
    {
      "cell_type": "code",
      "metadata": {
        "id": "Eqzx_PHjU2_d"
      },
      "source": [
        "# ler a imagem usando o OpenCV\n",
        "img = cv2.imread(\"aviao_64x64.jpg\")"
      ],
      "execution_count": 3,
      "outputs": []
    },
    {
      "cell_type": "code",
      "metadata": {
        "colab": {
          "base_uri": "https://localhost:8080/"
        },
        "id": "ovBiM0h_U7pT",
        "outputId": "f704674f-8423-4cc9-9759-a14ee63a5262"
      },
      "source": [
        "# ver suas dimensões\n",
        "img.shape"
      ],
      "execution_count": 4,
      "outputs": [
        {
          "output_type": "execute_result",
          "data": {
            "text/plain": [
              "(64, 64, 3)"
            ]
          },
          "metadata": {
            "tags": []
          },
          "execution_count": 4
        }
      ]
    },
    {
      "cell_type": "code",
      "metadata": {
        "colab": {
          "base_uri": "https://localhost:8080/",
          "height": 268
        },
        "id": "kXLcR0s-VDOG",
        "outputId": "d5701218-f0d6-4737-ce57-891c007eec83"
      },
      "source": [
        "# plotar a imagem usando o `matplotlib`\n",
        "plt.imshow(cv2.cvtColor(img, cv2.COLOR_BGR2RGB))\n",
        "plt.show()"
      ],
      "execution_count": 8,
      "outputs": [
        {
          "output_type": "display_data",
          "data": {
            "image/png": "[encoded data removed]",
            "text/plain": [
              "<Figure size 432x288 with 1 Axes>"
            ]
          },
          "metadata": {
            "tags": [],
            "needs_background": "light"
          }
        }
      ]
    }
  ]
}