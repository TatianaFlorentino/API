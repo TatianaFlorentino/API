{
  "nbformat": 4,
  "nbformat_minor": 0,
  "metadata": {
    "colab": {
      "name": "Overview_python.ipynb",
      "provenance": [],
      "include_colab_link": true
    },
    "kernelspec": {
      "name": "python3",
      "display_name": "Python 3"
    }
  },
  "cells": [
    {
      "cell_type": "markdown",
      "metadata": {
        "id": "view-in-github",
        "colab_type": "text"
      },
      "source": [
        "<a href=\"https://colab.research.google.com/github/TatianaFlorentino/API/blob/master/Overview_python.ipynb\" target=\"_parent\"><img src=\"https://colab.research.google.com/assets/colab-badge.svg\" alt=\"Open In Colab\"/></a>"
      ]
    },
    {
      "cell_type": "markdown",
      "metadata": {
        "id": "QtxLVLaDXtFt"
      },
      "source": [
        "Primeiros Passos com Python\n",
        "\n",
        "![4.jpg](data:image/jpeg;base64,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)\n",
        "\n",
        "\n",
        "\n",
        "\n",
        "\n",
        "\n",
        "\n",
        "\n"
      ]
    },
    {
      "cell_type": "markdown",
      "metadata": {
        "id": "nBiK2MpOYRaf"
      },
      "source": [
        "Primeiro Hello World ou Olá mundo!"
      ]
    },
    {
      "cell_type": "code",
      "metadata": {
        "colab": {
          "base_uri": "https://localhost:8080/"
        },
        "id": "Z94Fggd7YeSz",
        "outputId": "9922fe6c-91f9-47b5-c048-22f2e8fe6e97"
      },
      "source": [
        "print (\"hello world\")"
      ],
      "execution_count": null,
      "outputs": [
        {
          "output_type": "stream",
          "text": [
            "hello world\n"
          ],
          "name": "stdout"
        }
      ]
    },
    {
      "cell_type": "markdown",
      "metadata": {
        "id": "I6OULr9oIQS8"
      },
      "source": [
        "**Usando operadores aritméticos**\n",
        "\n",
        "\n",
        "*   Adição\n",
        "*   Subtração\n",
        "*   Divisão\n",
        "*   Multiplicação\n",
        "*   Ordem de precedência\n",
        "\n",
        "\n",
        "\n"
      ]
    },
    {
      "cell_type": "code",
      "metadata": {
        "colab": {
          "base_uri": "https://localhost:8080/"
        },
        "id": "qyebsRxdJR2m",
        "outputId": "11968737-8ce5-4208-bdcf-f18c694ec9cc"
      },
      "source": [
        "\n",
        "6+4\n"
      ],
      "execution_count": null,
      "outputs": [
        {
          "output_type": "execute_result",
          "data": {
            "text/plain": [
              "10"
            ]
          },
          "metadata": {
            "tags": []
          },
          "execution_count": 5
        }
      ]
    },
    {
      "cell_type": "code",
      "metadata": {
        "colab": {
          "base_uri": "https://localhost:8080/"
        },
        "id": "B1JvrMWrIz4C",
        "outputId": "fd9cefc7-e9de-4404-b963-09c1a45180aa"
      },
      "source": [
        "800-677"
      ],
      "execution_count": null,
      "outputs": [
        {
          "output_type": "execute_result",
          "data": {
            "text/plain": [
              "123"
            ]
          },
          "metadata": {
            "tags": []
          },
          "execution_count": 6
        }
      ]
    },
    {
      "cell_type": "code",
      "metadata": {
        "colab": {
          "base_uri": "https://localhost:8080/"
        },
        "id": "2izxwY4NK8jR",
        "outputId": "7a9b9ad9-c18a-4c67-d9e2-d022c00410c0"
      },
      "source": [
        "2000/200"
      ],
      "execution_count": null,
      "outputs": [
        {
          "output_type": "execute_result",
          "data": {
            "text/plain": [
              "10.0"
            ]
          },
          "metadata": {
            "tags": []
          },
          "execution_count": 7
        }
      ]
    },
    {
      "cell_type": "code",
      "metadata": {
        "colab": {
          "base_uri": "https://localhost:8080/"
        },
        "id": "GQwOXLSYLBXV",
        "outputId": "3f9c3bfd-3b20-4dcb-b8ef-29572603e055"
      },
      "source": [
        "7 * 7"
      ],
      "execution_count": null,
      "outputs": [
        {
          "output_type": "execute_result",
          "data": {
            "text/plain": [
              "49"
            ]
          },
          "metadata": {
            "tags": []
          },
          "execution_count": 8
        }
      ]
    },
    {
      "cell_type": "code",
      "metadata": {
        "id": "OxuhNXv1LIn_",
        "colab": {
          "base_uri": "https://localhost:8080/"
        },
        "outputId": "c3213a6a-513f-45ad-a170-9bf9ff2e0afa"
      },
      "source": [
        "7 ** 2"
      ],
      "execution_count": null,
      "outputs": [
        {
          "output_type": "execute_result",
          "data": {
            "text/plain": [
              "49"
            ]
          },
          "metadata": {
            "tags": []
          },
          "execution_count": 9
        }
      ]
    },
    {
      "cell_type": "markdown",
      "metadata": {
        "id": "VdaM0DJUHEFB"
      },
      "source": [
        "Atribuição de Variável Pense em uma variável como um nome anexado a um objeto específico. No Python, as variáveis ​​não precisam ser declaradas ou definidas com antecedência, como é o caso em muitas outras linguagens de programação. Para criar uma variável, basta atribuir um valor a ela e começar a usá-la. A atribuição é feita com um único sinal de igual ( =):\n",
        "\n",
        "Esta atribuição cria um objeto inteiro com o valor 300 e atribui a variável npara apontar para esse objeto.\n",
        "\n",
        "Diagrama de referência variável\n"
      ]
    },
    {
      "cell_type": "code",
      "metadata": {
        "id": "M5sU-h0HHKR8"
      },
      "source": [
        "n=300"
      ],
      "execution_count": null,
      "outputs": []
    },
    {
      "cell_type": "markdown",
      "metadata": {
        "id": "QQP6_aIpHpt4"
      },
      "source": [
        "Oficialmente, os nomes de variáveis ​​em Python podem ter qualquer comprimento e podem consistir em letras maiúsculas e minúsculas ( A-Z, a-z), dígitos ( 0-9) e o caractere de sublinhado ( _). Uma restrição adicional é que, embora um nome de variável possa conter dígitos, o primeiro caractere de um nome de variável não pode ser um dígito.\n",
        "\n",
        "[ ]\n"
      ]
    },
    {
      "cell_type": "code",
      "metadata": {
        "colab": {
          "base_uri": "https://localhost:8080/"
        },
        "id": "rK44HmX3HrVJ",
        "outputId": "b4e3a9fe-f89b-4051-925d-103c25572cd2"
      },
      "source": [
        "name = \"Tatiana\"\n",
        "age = 39 \n",
        "termos = True\n",
        "print ( name, age, termos)\n"
      ],
      "execution_count": null,
      "outputs": [
        {
          "output_type": "stream",
          "text": [
            "Tatiana 39 True\n"
          ],
          "name": "stdout"
        }
      ]
    },
    {
      "cell_type": "markdown",
      "metadata": {
        "id": "vHQ5rTKaIcM6"
      },
      "source": [
        "Vale a pena dar a uma variável um nome que seja descritivo o suficiente para deixar claro para que ela está sendo usada. Por exemplo, suponha que você esteja contando o número de pessoas que se formaram na faculdade. Você poderia escolher qualquer um dos seguintes:"
      ]
    },
    {
      "cell_type": "code",
      "metadata": {
        "colab": {
          "base_uri": "https://localhost:8080/"
        },
        "id": "sgH3SuOnIdfA",
        "outputId": "827adc68-f6e0-49ce-a75c-0f9de77a07ba"
      },
      "source": [
        "numberofcollegegraduates = 2500\n",
        "print (numberofcollegegraduates)"
      ],
      "execution_count": null,
      "outputs": [
        {
          "output_type": "stream",
          "text": [
            "2500\n"
          ],
          "name": "stdout"
        }
      ]
    },
    {
      "cell_type": "markdown",
      "metadata": {
        "id": "Ai5NaN8ZIuVd"
      },
      "source": [
        "Evitar nomes privados da linguagem de programação"
      ]
    },
    {
      "cell_type": "markdown",
      "metadata": {
        "id": "Hy58jJheJBQJ"
      },
      "source": [
        "Palavras-chave Python\t \t \t \n",
        "False\tdef\tif\traise\n",
        "\n",
        "*   None\n",
        "*   del\n",
        "*   import \n",
        "*   return\n",
        "*   True\n",
        "*   elsif\n",
        "*   in \n",
        "*   try\n",
        "*   and\n",
        "*   else \n",
        "*   in \n",
        "*   try\n",
        "*   as\n",
        "*   except \n",
        "*   lambda \n",
        "*   with\n",
        "*   asset\n",
        "*   finally\n",
        "*   break \n",
        "*   class \n",
        "\n",
        "\n",
        "\n",
        "\n"
      ]
    },
    {
      "cell_type": "markdown",
      "metadata": {
        "id": "uJO7HaxmLgzX"
      },
      "source": [
        "Números interios e float, situações onde você deseja que returna float ou inteiro ou converter um numero inteiro para float.\n"
      ]
    },
    {
      "cell_type": "code",
      "metadata": {
        "colab": {
          "base_uri": "https://localhost:8080/"
        },
        "id": "p765SC6uL2Wj",
        "outputId": "752ca411-2c29-4669-e7f8-7eb73969d450"
      },
      "source": [
        "# declarando como float\n",
        "Age = 39.10\n",
        "print ( age)\n",
        "\n"
      ],
      "execution_count": null,
      "outputs": [
        {
          "output_type": "stream",
          "text": [
            "39.0\n"
          ],
          "name": "stdout"
        }
      ]
    },
    {
      "cell_type": "code",
      "metadata": {
        "colab": {
          "base_uri": "https://localhost:8080/"
        },
        "id": "3AGzeVNmM7PJ",
        "outputId": "4f3418cc-8b68-4f78-b2ac-de7778dc06fb"
      },
      "source": [
        "# converter em inteiro\n",
        "age = int(age)\n",
        "print(age)\n"
      ],
      "execution_count": null,
      "outputs": [
        {
          "output_type": "stream",
          "text": [
            "39\n"
          ],
          "name": "stdout"
        }
      ]
    },
    {
      "cell_type": "code",
      "metadata": {
        "colab": {
          "base_uri": "https://localhost:8080/"
        },
        "id": "kD38UjsvMtc1",
        "outputId": "ad8cd2a3-1983-4dde-f274-94b8229069d1"
      },
      "source": [
        "# converter para float \n",
        "age = float (age)\n",
        "print (age)"
      ],
      "execution_count": null,
      "outputs": [
        {
          "output_type": "stream",
          "text": [
            "39.0\n"
          ],
          "name": "stdout"
        }
      ]
    },
    {
      "cell_type": "markdown",
      "metadata": {
        "id": "c0VRyybUODOA"
      },
      "source": [
        "O tipo bool é um dado que pode possuir os valores True ou False:\n",
        "\n",
        "* True - equivalente ao número 1\n",
        "* False - equivalente ao número 0 "
      ]
    },
    {
      "cell_type": "code",
      "metadata": {
        "colab": {
          "base_uri": "https://localhost:8080/"
        },
        "id": "bMgUBv2QOXwD",
        "outputId": "6b819c8a-9da2-40ac-fef2-95ef76dffa0c"
      },
      "source": [
        "# true equivale = 1\n",
        "type ( True)\n"
      ],
      "execution_count": null,
      "outputs": [
        {
          "output_type": "execute_result",
          "data": {
            "text/plain": [
              "bool"
            ]
          },
          "metadata": {
            "tags": []
          },
          "execution_count": 11
        }
      ]
    },
    {
      "cell_type": "code",
      "metadata": {
        "colab": {
          "base_uri": "https://localhost:8080/"
        },
        "id": "B3X8_2BnOyHT",
        "outputId": "c6e7cece-0f34-475a-906b-138aefaf9ba7"
      },
      "source": [
        "type ( False)\n"
      ],
      "execution_count": null,
      "outputs": [
        {
          "output_type": "execute_result",
          "data": {
            "text/plain": [
              "bool"
            ]
          },
          "metadata": {
            "tags": []
          },
          "execution_count": 13
        }
      ]
    },
    {
      "cell_type": "markdown",
      "metadata": {
        "id": "69MFCRoIO5RX"
      },
      "source": [
        "Os Operadores Relacionais server para você fazer comparações entre valores ou variáveis.\n",
        "\n",
        "Após avaliar uma expressão, os Operadores Relacionais retornam um dado do tipo bool, ou seja, True ou False. Veja os 6 operadores:\n",
        "\n",
        "/**OPERADOR\tDESCRIÇÃO**/\n",
        "<ol>\n",
        "<li>\n",
        " <\tMenor que\n",
        "<li>\n",
        " >\tMaior que\n",
        "</li>\n",
        "<li>\n",
        " <=\tMenor or igual a\n",
        "</li>\n",
        "<li>\n",
        " >=\tMaior ou igual a\n",
        "</li>\n",
        "<li>\n",
        " ==\tIgual a\n",
        "</li>\n",
        "<li>\n",
        " !=\tDiferente de\n",
        "</li>\n",
        "</ol>"
      ]
    },
    {
      "cell_type": "code",
      "metadata": {
        "colab": {
          "base_uri": "https://localhost:8080/"
        },
        "id": "QEQKXjObQxEh",
        "outputId": "d2e5723b-d884-45e5-b0bb-6d20612f0226"
      },
      "source": [
        " 10 > 12\n",
        "\n"
      ],
      "execution_count": null,
      "outputs": [
        {
          "output_type": "execute_result",
          "data": {
            "text/plain": [
              "False"
            ]
          },
          "metadata": {
            "tags": []
          },
          "execution_count": 17
        }
      ]
    },
    {
      "cell_type": "code",
      "metadata": {
        "colab": {
          "base_uri": "https://localhost:8080/"
        },
        "id": "LVO6hfbXRxFa",
        "outputId": "003667b7-bac3-4d3f-bd28-221709208140"
      },
      "source": [
        "12> 10"
      ],
      "execution_count": null,
      "outputs": [
        {
          "output_type": "execute_result",
          "data": {
            "text/plain": [
              "True"
            ]
          },
          "metadata": {
            "tags": []
          },
          "execution_count": 19
        }
      ]
    },
    {
      "cell_type": "code",
      "metadata": {
        "colab": {
          "base_uri": "https://localhost:8080/"
        },
        "id": "ecymXtT5R3kF",
        "outputId": "c26ee7f8-9175-4498-803b-6710d3ec3c45"
      },
      "source": [
        "12 <=12"
      ],
      "execution_count": null,
      "outputs": [
        {
          "output_type": "execute_result",
          "data": {
            "text/plain": [
              "True"
            ]
          },
          "metadata": {
            "tags": []
          },
          "execution_count": 20
        }
      ]
    },
    {
      "cell_type": "code",
      "metadata": {
        "colab": {
          "base_uri": "https://localhost:8080/"
        },
        "id": "A7VT0E-6R68K",
        "outputId": "f4f00750-e39d-4cde-f260-df87e9ed661f"
      },
      "source": [
        "12 == 12"
      ],
      "execution_count": null,
      "outputs": [
        {
          "output_type": "execute_result",
          "data": {
            "text/plain": [
              "True"
            ]
          },
          "metadata": {
            "tags": []
          },
          "execution_count": 21
        }
      ]
    },
    {
      "cell_type": "code",
      "metadata": {
        "colab": {
          "base_uri": "https://localhost:8080/"
        },
        "id": "ms6OyhHhR-Bu",
        "outputId": "42156387-a6f2-4748-bfe1-c64b7d38a902"
      },
      "source": [
        "12 != 2"
      ],
      "execution_count": null,
      "outputs": [
        {
          "output_type": "execute_result",
          "data": {
            "text/plain": [
              "True"
            ]
          },
          "metadata": {
            "tags": []
          },
          "execution_count": 22
        }
      ]
    },
    {
      "cell_type": "markdown",
      "metadata": {
        "id": "6MXTsRITfVeV"
      },
      "source": [
        "## 1.\n",
        "\n",
        "Listas são sequências de valores, onde cada valor é identificado por um índice referente a sua posição. O tipo de variável das listas é list, e você vai ver como elas são extremamente úteis para manipulação dos dados.\n",
        "\n",
        "Detalhe importante, as listas são mutáveis, compostas de diversos valores, chamados elementos ou itens, e que podem ser de diferentes tipos.\n",
        "\n",
        "\n",
        "\n",
        "\n",
        "| ID    | NAME          |   DESCRIÇÃO                                        |\n",
        "|--------------|----------------|--------------------------------------------------------|\n",
        "| 1   | TATIANA       |BORA APRENDER LISTAS                           |\n",
        "\n",
        "\n",
        "<span style=\"display:none\"></span>"
      ]
    }
  ]
}