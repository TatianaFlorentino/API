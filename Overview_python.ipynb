{
  "nbformat": 4,
  "nbformat_minor": 0,
  "metadata": {
    "colab": {
      "name": "Overview_python.ipynb",
      "provenance": [],
      "collapsed_sections": [],
      "authorship_tag": "ABX9TyMHacSz3M5aC3oVVc/TkrWl",
      "include_colab_link": true
    },
    "kernelspec": {
      "name": "python3",
      "display_name": "Python 3"
    }
  },
  "cells": [
    {
      "cell_type": "markdown",
      "metadata": {
        "id": "view-in-github",
        "colab_type": "text"
      },
      "source": [
        "<a href=\"https://colab.research.google.com/github/TatianaFlorentino/API/blob/master/Overview_python.ipynb\" target=\"_parent\"><img src=\"https://colab.research.google.com/assets/colab-badge.svg\" alt=\"Open In Colab\"/></a>"
      ]
    },
    {
      "cell_type": "code",
      "metadata": {
        "colab": {
          "base_uri": "https://localhost:8080/"
        },
        "id": "5Se9fJ3VFV1N",
        "outputId": "fd7b8717-3e58-42b2-cbeb-5716b3df923e"
      },
      "source": [
        "\n",
        "\n",
        "print (\"Hello world\")"
      ],
      "execution_count": null,
      "outputs": [
        {
          "output_type": "stream",
          "text": [
            "Hello world\n"
          ],
          "name": "stdout"
        }
      ]
    },
    {
      "cell_type": "markdown",
      "metadata": {
        "id": "vi9_e6xMCOgz"
      },
      "source": [
        ""
      ]
    },
    {
      "cell_type": "code",
      "metadata": {
        "colab": {
          "base_uri": "https://localhost:8080/"
        },
        "id": "s5RT8KcUGYA_",
        "outputId": "b31ebcc1-25fc-4cc9-836c-bbdb2f72f844"
      },
      "source": [
        "frase = (\"hello world\")\n",
        "print (frase)"
      ],
      "execution_count": null,
      "outputs": [
        {
          "output_type": "stream",
          "text": [
            "hello world\n"
          ],
          "name": "stdout"
        }
      ]
    },
    {
      "cell_type": "markdown",
      "metadata": {
        "id": "I6OULr9oIQS8"
      },
      "source": [
        "**Usando operadores aritméticos**\n",
        "\n",
        "\n",
        "*   Adição\n",
        "*   Subtração\n",
        "*   Divisão\n",
        "*   Multiplicação\n",
        "*   Ordem de precedência\n",
        "\n",
        "\n",
        "\n"
      ]
    },
    {
      "cell_type": "code",
      "metadata": {
        "colab": {
          "base_uri": "https://localhost:8080/"
        },
        "id": "qyebsRxdJR2m",
        "outputId": "11968737-8ce5-4208-bdcf-f18c694ec9cc"
      },
      "source": [
        "\n",
        "6+4\n"
      ],
      "execution_count": null,
      "outputs": [
        {
          "output_type": "execute_result",
          "data": {
            "text/plain": [
              "10"
            ]
          },
          "metadata": {
            "tags": []
          },
          "execution_count": 5
        }
      ]
    },
    {
      "cell_type": "code",
      "metadata": {
        "colab": {
          "base_uri": "https://localhost:8080/"
        },
        "id": "B1JvrMWrIz4C",
        "outputId": "fd9cefc7-e9de-4404-b963-09c1a45180aa"
      },
      "source": [
        "800-677"
      ],
      "execution_count": null,
      "outputs": [
        {
          "output_type": "execute_result",
          "data": {
            "text/plain": [
              "123"
            ]
          },
          "metadata": {
            "tags": []
          },
          "execution_count": 6
        }
      ]
    },
    {
      "cell_type": "code",
      "metadata": {
        "colab": {
          "base_uri": "https://localhost:8080/"
        },
        "id": "2izxwY4NK8jR",
        "outputId": "7a9b9ad9-c18a-4c67-d9e2-d022c00410c0"
      },
      "source": [
        "2000/200"
      ],
      "execution_count": null,
      "outputs": [
        {
          "output_type": "execute_result",
          "data": {
            "text/plain": [
              "10.0"
            ]
          },
          "metadata": {
            "tags": []
          },
          "execution_count": 7
        }
      ]
    },
    {
      "cell_type": "code",
      "metadata": {
        "colab": {
          "base_uri": "https://localhost:8080/"
        },
        "id": "GQwOXLSYLBXV",
        "outputId": "3f9c3bfd-3b20-4dcb-b8ef-29572603e055"
      },
      "source": [
        "7 * 7"
      ],
      "execution_count": null,
      "outputs": [
        {
          "output_type": "execute_result",
          "data": {
            "text/plain": [
              "49"
            ]
          },
          "metadata": {
            "tags": []
          },
          "execution_count": 8
        }
      ]
    },
    {
      "cell_type": "code",
      "metadata": {
        "colab": {
          "base_uri": "https://localhost:8080/"
        },
        "id": "OxuhNXv1LIn_",
        "outputId": "c3213a6a-513f-45ad-a170-9bf9ff2e0afa"
      },
      "source": [
        "7 ** 2"
      ],
      "execution_count": null,
      "outputs": [
        {
          "output_type": "execute_result",
          "data": {
            "text/plain": [
              "49"
            ]
          },
          "metadata": {
            "tags": []
          },
          "execution_count": 9
        }
      ]
    },
    {
      "cell_type": "markdown",
      "metadata": {
        "id": "VXjCZoWHCS7O"
      },
      "source": [
        "Atribuição de Variável\n",
        "Pense em uma variável como um nome anexado a um objeto específico. No Python, as variáveis ​​não precisam ser declaradas ou definidas com antecedência, como é o caso em muitas outras linguagens de programação. Para criar uma variável, basta atribuir um valor a ela e começar a usá-la. A atribuição é feita com um único sinal de igual ( =):\n"
      ]
    },
    {
      "cell_type": "markdown",
      "metadata": {
        "id": "NzgA_rvcD7W_"
      },
      "source": [
        "Esta atribuição cria um objeto inteiro com o valor 300 e atribui a variável npara apontar para esse objeto.\n",
        "\n",
        "Diagrama de referência variável"
      ]
    },
    {
      "cell_type": "code",
      "metadata": {
        "id": "pFyKdFeNCUWQ",
        "outputId": "5fc97cec-76a8-4bd1-d76a-48bc3ca30414",
        "colab": {
          "base_uri": "https://localhost:8080/"
        }
      },
      "source": [
        "n=300\n",
        "print (n)"
      ],
      "execution_count": 2,
      "outputs": [
        {
          "output_type": "stream",
          "text": [
            "300\n"
          ],
          "name": "stdout"
        }
      ]
    },
    {
      "cell_type": "markdown",
      "metadata": {
        "id": "u4sm5EqlEboa"
      },
      "source": [
        "Oficialmente, os nomes de variáveis ​​em Python podem ter qualquer comprimento e podem consistir em letras maiúsculas e minúsculas ( A-Z, a-z), dígitos ( 0-9) e o caractere de sublinhado ( _). Uma restrição adicional é que, embora um nome de variável possa conter dígitos, o primeiro caractere de um nome de variável não pode ser um dígito.\n"
      ]
    },
    {
      "cell_type": "code",
      "metadata": {
        "id": "lShFDB-qEjLb",
        "outputId": "d0c97c43-fdb0-4d70-bb6d-e0b045816345",
        "colab": {
          "base_uri": "https://localhost:8080/"
        }
      },
      "source": [
        "name = \"Tatiana\"\n",
        "age = 39\n",
        "termo_assinado = True\n",
        "\n",
        "print (name, age, termo_assinado)\n"
      ],
      "execution_count": 12,
      "outputs": [
        {
          "output_type": "stream",
          "text": [
            "Tatiana 39 True\n"
          ],
          "name": "stdout"
        }
      ]
    },
    {
      "cell_type": "markdown",
      "metadata": {
        "id": "aC3gECSDGAEt"
      },
      "source": [
        ""
      ]
    }
  ]
}